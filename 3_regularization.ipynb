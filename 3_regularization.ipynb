{
 "cells": [
  {
   "cell_type": "markdown",
   "metadata": {
    "colab_type": "text",
    "id": "kR-4eNdK6lYS"
   },
   "source": [
    "Deep Learning\n",
    "=============\n",
    "\n",
    "Assignment 3\n",
    "------------\n",
    "\n",
    "Previously in `2_fullyconnected.ipynb`, you trained a logistic regression and a neural network model.\n",
    "\n",
    "The goal of this assignment is to explore regularization techniques."
   ]
  },
  {
   "cell_type": "code",
   "execution_count": 1,
   "metadata": {
    "cellView": "both",
    "colab": {
     "autoexec": {
      "startup": false,
      "wait_interval": 0
     }
    },
    "colab_type": "code",
    "collapsed": true,
    "id": "JLpLa8Jt7Vu4"
   },
   "outputs": [],
   "source": [
    "# These are all the modules we'll be using later. Make sure you can import them\n",
    "# before proceeding further.\n",
    "from __future__ import print_function\n",
    "import numpy as np\n",
    "import tensorflow as tf\n",
    "from six.moves import cPickle as pickle"
   ]
  },
  {
   "cell_type": "markdown",
   "metadata": {
    "colab_type": "text",
    "id": "1HrCK6e17WzV"
   },
   "source": [
    "First reload the data we generated in _notmist.ipynb_."
   ]
  },
  {
   "cell_type": "code",
   "execution_count": 2,
   "metadata": {
    "cellView": "both",
    "colab": {
     "autoexec": {
      "startup": false,
      "wait_interval": 0
     },
     "output_extras": [
      {
       "item_id": 1
      }
     ]
    },
    "colab_type": "code",
    "collapsed": false,
    "executionInfo": {
     "elapsed": 11777,
     "status": "ok",
     "timestamp": 1449849322348,
     "user": {
      "color": "",
      "displayName": "",
      "isAnonymous": false,
      "isMe": true,
      "permissionId": "",
      "photoUrl": "",
      "sessionId": "0",
      "userId": ""
     },
     "user_tz": 480
    },
    "id": "y3-cj1bpmuxc",
    "outputId": "e03576f1-ebbe-4838-c388-f1777bcc9873"
   },
   "outputs": [
    {
     "name": "stdout",
     "output_type": "stream",
     "text": [
      "Training set (200000, 28, 28) (200000,)\n",
      "Validation set (10000, 28, 28) (10000,)\n",
      "Test set (10000, 28, 28) (10000,)\n"
     ]
    }
   ],
   "source": [
    "pickle_file = 'notMNIST.pickle'\n",
    "\n",
    "with open(pickle_file, 'rb') as f:\n",
    "  save = pickle.load(f)\n",
    "  train_dataset = save['train_dataset']\n",
    "  train_labels = save['train_labels']\n",
    "  valid_dataset = save['valid_dataset']\n",
    "  valid_labels = save['valid_labels']\n",
    "  test_dataset = save['test_dataset']\n",
    "  test_labels = save['test_labels']\n",
    "  del save  # hint to help gc free up memory\n",
    "  print('Training set', train_dataset.shape, train_labels.shape)\n",
    "  print('Validation set', valid_dataset.shape, valid_labels.shape)\n",
    "  print('Test set', test_dataset.shape, test_labels.shape)"
   ]
  },
  {
   "cell_type": "markdown",
   "metadata": {
    "colab_type": "text",
    "id": "L7aHrm6nGDMB"
   },
   "source": [
    "Reformat into a shape that's more adapted to the models we're going to train:\n",
    "- data as a flat matrix,\n",
    "- labels as float 1-hot encodings."
   ]
  },
  {
   "cell_type": "code",
   "execution_count": 3,
   "metadata": {
    "cellView": "both",
    "colab": {
     "autoexec": {
      "startup": false,
      "wait_interval": 0
     },
     "output_extras": [
      {
       "item_id": 1
      }
     ]
    },
    "colab_type": "code",
    "collapsed": false,
    "executionInfo": {
     "elapsed": 11728,
     "status": "ok",
     "timestamp": 1449849322356,
     "user": {
      "color": "",
      "displayName": "",
      "isAnonymous": false,
      "isMe": true,
      "permissionId": "",
      "photoUrl": "",
      "sessionId": "0",
      "userId": ""
     },
     "user_tz": 480
    },
    "id": "IRSyYiIIGIzS",
    "outputId": "3f8996ee-3574-4f44-c953-5c8a04636582"
   },
   "outputs": [
    {
     "name": "stdout",
     "output_type": "stream",
     "text": [
      "Training set (200000, 784) (200000, 10)\n",
      "Validation set (10000, 784) (10000, 10)\n",
      "Test set (10000, 784) (10000, 10)\n"
     ]
    }
   ],
   "source": [
    "image_size = 28\n",
    "num_labels = 10\n",
    "\n",
    "def reformat(dataset, labels):\n",
    "  dataset = dataset.reshape((-1, image_size * image_size)).astype(np.float32)\n",
    "  # Map 2 to [0.0, 1.0, 0.0 ...], 3 to [0.0, 0.0, 1.0 ...]\n",
    "  labels = (np.arange(num_labels) == labels[:,None]).astype(np.float32)\n",
    "  return dataset, labels\n",
    "train_dataset, train_labels = reformat(train_dataset, train_labels)\n",
    "valid_dataset, valid_labels = reformat(valid_dataset, valid_labels)\n",
    "test_dataset, test_labels = reformat(test_dataset, test_labels)\n",
    "print('Training set', train_dataset.shape, train_labels.shape)\n",
    "print('Validation set', valid_dataset.shape, valid_labels.shape)\n",
    "print('Test set', test_dataset.shape, test_labels.shape)"
   ]
  },
  {
   "cell_type": "code",
   "execution_count": 4,
   "metadata": {
    "cellView": "both",
    "colab": {
     "autoexec": {
      "startup": false,
      "wait_interval": 0
     }
    },
    "colab_type": "code",
    "collapsed": true,
    "id": "RajPLaL_ZW6w"
   },
   "outputs": [],
   "source": [
    "def accuracy(predictions, labels):\n",
    "  return (100.0 * np.sum(np.argmax(predictions, 1) == np.argmax(labels, 1))\n",
    "          / predictions.shape[0])"
   ]
  },
  {
   "cell_type": "markdown",
   "metadata": {
    "colab_type": "text",
    "id": "sgLbUAQ1CW-1"
   },
   "source": [
    "---\n",
    "Problem 1\n",
    "---------\n",
    "\n",
    "Introduce and tune L2 regularization for both logistic and neural network models. Remember that L2 amounts to adding a penalty on the norm of the weights to the loss. In TensorFlow, you can compute the L2 loss for a tensor `t` using `nn.l2_loss(t)`. The right amount of regularization should improve your validation / test accuracy.\n",
    "\n",
    "---"
   ]
  },
  {
   "cell_type": "code",
   "execution_count": 52,
   "metadata": {
    "collapsed": false
   },
   "outputs": [
    {
     "name": "stdout",
     "output_type": "stream",
     "text": [
      "initialization finished\n",
      "Minibatch loss at step 0: 489.824158\n",
      "Minibatch accuracy: 7.8%\n",
      "Validation accuracy: 28.9%\n",
      "Test accuracy: 31.2%\n"
     ]
    }
   ],
   "source": [
    "batch_size = 128\n",
    "beta_regul = 1e-3\n",
    "\n",
    "def forward_pass(dataset, weights, biases):\n",
    "    relu_hidden_layer = tf.nn.relu(tf.add(tf.matmul(dataset, weights['h1']), biases['b1']))\n",
    "    out_layer = tf.matmul(relu_hidden_layer, weights['out']) + biases['out']\n",
    "    return out_layer\n",
    "\n",
    "mlp_regularized_graph = tf.Graph()\n",
    "with mlp_regularized_graph.as_default():\n",
    "    tf_train_dataset = tf.placeholder(tf.float32, shape = (batch_size, image_size * image_size))\n",
    "    tf_train_labels = tf.placeholder(tf.float32, shape = (batch_size, num_labels))\n",
    "    tf_valid_dataset = tf.constant(valid_dataset)\n",
    "    tf_test_dataset = tf.constant(test_dataset)\n",
    "    \n",
    "    # Store layers weight & bias\n",
    "    n_input = image_size * image_size\n",
    "    n_hidden_1 = 1024\n",
    "    n_classes = num_labels\n",
    "    \n",
    "    weights = {\n",
    "        'h1': tf.Variable(tf.truncated_normal([n_input, n_hidden_1])),\n",
    "        'out': tf.Variable(tf.truncated_normal([n_hidden_1, n_classes]))\n",
    "    }\n",
    "    \n",
    "    biases = {\n",
    "        'b1': tf.Variable(tf.zeros([n_hidden_1])),\n",
    "        'out': tf.Variable(tf.zeros([n_classes]))\n",
    "    }\n",
    "    \n",
    "    out_layer = forward_pass(tf_train_dataset, weights, biases)\n",
    "    \n",
    "    # Yes, those probably should be used as placeholder values, but ... FIXME\n",
    "    test_out_layer = forward_pass(tf_test_dataset, weights, biases)\n",
    "    valid_out_layer = forward_pass(tf_valid_dataset, weights, biases)\n",
    "    \n",
    "    loss = tf.reduce_mean(tf.nn.softmax_cross_entropy_with_logits(out_layer, tf_train_labels)) # Softmax loss\n",
    "    \n",
    "    # L2 Regularization\n",
    "    regularizers = (tf.nn.l2_loss(weights['h1']) + tf.nn.l2_loss(weights['out']))\n",
    "    \n",
    "    # Add the regularization term to the loss. Let's fix regularization parameter for the sake of simplicity\n",
    "    loss += 5e-4 * regularizers\n",
    "    \n",
    "    optimizer = tf.train.GradientDescentOptimizer(0.5).minimize(loss)\n",
    "    \n",
    "# train and predict\n",
    "def train_and_test(graph, train_dataset, num_steps):\n",
    "    '''Train using mini batch gradient descent'''\n",
    "    with tf.Session(graph = graph) as session:\n",
    "        tf.initialize_all_variables().run()\n",
    "        print(\"initialization finished\")\n",
    "\n",
    "        for step in range(num_steps):\n",
    "            # Pick an offset within the training data, which has been randomized.\n",
    "            # Note: we could use better randomization across epochs.\n",
    "            offset = (step * batch_size) % (train_labels.shape[0] - batch_size)\n",
    "\n",
    "            batch_data = train_dataset[offset:(offset + batch_size), :]\n",
    "            batch_labels = train_labels[offset:(offset + batch_size), :]\n",
    "            feed_dict = {tf_train_dataset : batch_data, tf_train_labels : batch_labels}\n",
    "\n",
    "            _, l, predictions = session.run([optimizer, loss, out_layer], feed_dict=feed_dict)\n",
    "            if (step % 500 == 0):\n",
    "              print(\"Minibatch loss at step %d: %f\" % (step, l))\n",
    "              print(\"Minibatch accuracy: %.1f%%\" % accuracy(predictions, batch_labels))\n",
    "              print(\"Validation accuracy: %.1f%%\" % accuracy(valid_out_layer.eval(), valid_labels))\n",
    "              print(\"Test accuracy: %.1f%%\" % accuracy(test_out_layer.eval(), test_labels))\n",
    "                \n",
    "train_and_test(mlp_regularized_graph, train_dataset, 100)"
   ]
  },
  {
   "cell_type": "markdown",
   "metadata": {
    "colab_type": "text",
    "id": "na8xX2yHZzNF"
   },
   "source": [
    "---\n",
    "Problem 2\n",
    "---------\n",
    "Let's demonstrate an extreme case of overfitting. Restrict your training data to just a few batches. What happens?\n",
    "\n",
    "---"
   ]
  },
  {
   "cell_type": "code",
   "execution_count": 53,
   "metadata": {
    "collapsed": false
   },
   "outputs": [
    {
     "name": "stdout",
     "output_type": "stream",
     "text": [
      "initialization finished\n",
      "Minibatch loss at step 0: 532.448914\n",
      "Minibatch accuracy: 11.7%\n",
      "Validation accuracy: 35.9%\n",
      "Test accuracy: 39.3%\n"
     ]
    }
   ],
   "source": [
    "train_and_test(mlp_regularized_graph, train_dataset, 100)"
   ]
  },
  {
   "cell_type": "markdown",
   "metadata": {},
   "source": [
    "Validation - test accuracy ~ 3 %"
   ]
  },
  {
   "cell_type": "markdown",
   "metadata": {
    "colab_type": "text",
    "id": "ww3SCBUdlkRc"
   },
   "source": [
    "---\n",
    "Problem 3\n",
    "---------\n",
    "Introduce Dropout on the hidden layer of the neural network. Remember: Dropout should only be introduced during training, not evaluation, otherwise your evaluation results would be stochastic as well. TensorFlow provides `nn.dropout()` for that, but you have to make sure it's only inserted during training.\n",
    "\n",
    "What happens to our extreme overfitting case?\n",
    "\n",
    "---"
   ]
  },
  {
   "cell_type": "code",
   "execution_count": 50,
   "metadata": {
    "collapsed": false
   },
   "outputs": [
    {
     "name": "stdout",
     "output_type": "stream",
     "text": [
      "initialization finished\n",
      "Minibatch loss at step 0: 425.155701\n",
      "Minibatch accuracy: 14.8%\n",
      "Validation accuracy: 31.1%\n",
      "Test accuracy: 34.3%\n"
     ]
    }
   ],
   "source": [
    "def dropout_forward_pass(dataset, weights, biases, keep_prob):\n",
    "    relu_hidden_layer = tf.nn.relu(tf.add(tf.matmul(dataset, weights['h1']), biases['b1']))\n",
    "    relu_hidden_layer_drop = tf.nn.dropout(relu_hidden_layer, keep_prob)\n",
    "    out_layer = tf.matmul(relu_hidden_layer, weights['out']) + biases['out']\n",
    "    return out_layer\n",
    "\n",
    "mlp_dropout_graph = tf.Graph()\n",
    "with mlp_dropout_graph.as_default():\n",
    "    tf_train_dataset = tf.placeholder(tf.float32, shape = (batch_size, image_size * image_size))\n",
    "    tf_train_labels = tf.placeholder(tf.float32, shape = (batch_size, num_labels))\n",
    "    tf_valid_dataset = tf.constant(valid_dataset)\n",
    "    tf_test_dataset = tf.constant(test_dataset)\n",
    "    keep_prob = tf.placeholder(\"float\")\n",
    "    \n",
    "    # Store layers weight & bias\n",
    "    n_input = image_size * image_size\n",
    "    n_hidden_1 = 1024\n",
    "    n_classes = num_labels\n",
    "    \n",
    "    weights = {\n",
    "        'h1': tf.Variable(tf.truncated_normal([n_input, n_hidden_1])),\n",
    "        'out': tf.Variable(tf.truncated_normal([n_hidden_1, n_classes]))\n",
    "    }\n",
    "    \n",
    "    biases = {\n",
    "        'b1': tf.Variable(tf.zeros([n_hidden_1])),\n",
    "        'out': tf.Variable(tf.zeros([n_classes]))\n",
    "    }\n",
    "    \n",
    "    out_layer = dropout_forward_pass(tf_train_dataset, weights, biases, 0.5)\n",
    "    \n",
    "    # Yes, those probably should be used as placeholder values, but ... FIXME\n",
    "    test_out_layer = dropout_forward_pass(tf_test_dataset, weights, biases, 0.5)\n",
    "    valid_out_layer = dropout_forward_pass(tf_valid_dataset, weights, biases, 0.5)\n",
    "    \n",
    "    loss = tf.reduce_mean(tf.nn.softmax_cross_entropy_with_logits(out_layer, tf_train_labels)) # Softmax loss\n",
    "    \n",
    "    optimizer = tf.train.GradientDescentOptimizer(0.5).minimize(loss)\n",
    "    \n",
    "train_and_test(mlp_dropout_graph, train_dataset, 100)"
   ]
  },
  {
   "cell_type": "markdown",
   "metadata": {},
   "source": [
    "Validation - test accuracy ~ 2.2 %"
   ]
  },
  {
   "cell_type": "markdown",
   "metadata": {
    "colab_type": "text",
    "id": "-b1hTz3VWZjw"
   },
   "source": [
    "---\n",
    "Problem 4\n",
    "---------\n",
    "\n",
    "Try to get the best performance you can using a multi-layer model! The best reported test accuracy using a deep network is [97.1%](http://yaroslavvb.blogspot.com/2011/09/notmnist-dataset.html?showComment=1391023266211#c8758720086795711595).\n",
    "\n",
    "One avenue you can explore is to add multiple layers.\n",
    "\n",
    "Another one is to use learning rate decay:\n",
    "\n",
    "    global_step = tf.Variable(0)  # count the number of steps taken.\n",
    "    learning_rate = tf.train.exponential_decay(0.5, global_step, ...)\n",
    "    optimizer = tf.train.GradientDescentOptimizer(learning_rate).minimize(loss, global_step=global_step)\n",
    " \n",
    " ---\n"
   ]
  },
  {
   "cell_type": "code",
   "execution_count": 65,
   "metadata": {
    "collapsed": false
   },
   "outputs": [
    {
     "name": "stdout",
     "output_type": "stream",
     "text": [
      "initialization finished\n",
      "Minibatch loss at step 0: 586.713745\n",
      "Minibatch accuracy: 7.8%\n",
      "Validation accuracy: 33.0%\n",
      "Test accuracy: 35.5%\n",
      "Minibatch loss at step 500: 24.694050\n",
      "Minibatch accuracy: 79.7%\n",
      "Validation accuracy: 75.7%\n",
      "Test accuracy: 82.2%\n",
      "Minibatch loss at step 1000: 13.791576\n",
      "Minibatch accuracy: 75.0%\n",
      "Validation accuracy: 73.8%\n",
      "Test accuracy: 80.1%\n",
      "Minibatch loss at step 1500: 14.264048\n",
      "Minibatch accuracy: 67.2%\n",
      "Validation accuracy: 71.4%\n",
      "Test accuracy: 78.6%\n",
      "Minibatch loss at step 2000: 6.245362\n",
      "Minibatch accuracy: 74.2%\n",
      "Validation accuracy: 74.6%\n",
      "Test accuracy: 81.3%\n",
      "Minibatch loss at step 2500: 12.325098\n",
      "Minibatch accuracy: 72.7%\n",
      "Validation accuracy: 72.9%\n",
      "Test accuracy: 80.0%\n"
     ]
    }
   ],
   "source": [
    "def dropout_forward_pass(dataset, weights, biases, keep_prob):\n",
    "    relu_hidden_layer_1 = tf.nn.relu(tf.add(tf.matmul(dataset, weights['h1']), biases['b1']))\n",
    "    relu_hidden_layer_drop_1 = tf.nn.dropout(relu_hidden_layer_1, keep_prob)\n",
    "    \n",
    "    #relu_hidden_layer_2 = tf.nn.relu(tf.add(tf.matmul(relu_hidden_layer_1, weights['h2']), biases['b2']))\n",
    "    # relu_hidden_layer_drop_2 = tf.nn.dropout(relu_hidden_layer_2, keep_prob)\n",
    "    \n",
    "    out_layer = tf.matmul(relu_hidden_layer_drop_1, weights['out']) + biases['out']\n",
    "    return out_layer\n",
    "\n",
    "mlp_dropout_graph = tf.Graph()\n",
    "with mlp_dropout_graph.as_default():\n",
    "    tf_train_dataset = tf.placeholder(tf.float32, shape = (batch_size, image_size * image_size))\n",
    "    tf_train_labels = tf.placeholder(tf.float32, shape = (batch_size, num_labels))\n",
    "    tf_valid_dataset = tf.constant(valid_dataset)\n",
    "    tf_test_dataset = tf.constant(test_dataset)\n",
    "    keep_prob = tf.placeholder(\"float\")\n",
    "    \n",
    "    # Store layers weight & bias\n",
    "    n_input = image_size * image_size\n",
    "    n_hidden_1 = 1024\n",
    "    n_hidden_2 = 32\n",
    "    n_classes = num_labels\n",
    "    \n",
    "    weights = {\n",
    "        'h1': tf.Variable(tf.truncated_normal([n_input, n_hidden_1])),\n",
    "        #'h2': tf.Variable(tf.truncated_normal([n_hidden_1, n_hidden_2])),\n",
    "        'out': tf.Variable(tf.truncated_normal([n_hidden_1, n_classes]))\n",
    "    }\n",
    "    \n",
    "    biases = {\n",
    "        'b1': tf.Variable(tf.zeros([n_hidden_1])),\n",
    "        #'b2': tf.Variable(tf.zeros([n_hidden_2])),\n",
    "        'out': tf.Variable(tf.zeros([n_classes]))\n",
    "    }\n",
    "    \n",
    "    out_layer = dropout_forward_pass(tf_train_dataset, weights, biases, 0.5)\n",
    "    \n",
    "    # Yes, those probably should be used as placeholder values, but ... FIXME\n",
    "    test_out_layer = dropout_forward_pass(tf_test_dataset, weights, biases, 0.5)\n",
    "    valid_out_layer = dropout_forward_pass(tf_valid_dataset, weights, biases, 0.5)\n",
    "    \n",
    "    loss = tf.reduce_mean(tf.nn.softmax_cross_entropy_with_logits(out_layer, tf_train_labels)) # Softmax loss\n",
    "    \n",
    "    global_step = tf.Variable(0)  # count the number of steps taken.\n",
    "    learning_rate = tf.train.exponential_decay(0.5, global_step, 100000, 0.9)\n",
    "    optimizer = tf.train.GradientDescentOptimizer(learning_rate).minimize(loss, global_step=global_step)\n",
    "    \n",
    "train_and_test(mlp_dropout_graph, train_dataset, 3000)"
   ]
  }
 ],
 "metadata": {
  "colab": {
   "default_view": {},
   "name": "3_regularization.ipynb",
   "provenance": [],
   "version": "0.3.2",
   "views": {}
  },
  "kernelspec": {
   "display_name": "Python 2",
   "language": "python",
   "name": "python2"
  },
  "language_info": {
   "codemirror_mode": {
    "name": "ipython",
    "version": 2
   },
   "file_extension": ".py",
   "mimetype": "text/x-python",
   "name": "python",
   "nbconvert_exporter": "python",
   "pygments_lexer": "ipython2",
   "version": "2.7.6"
  }
 },
 "nbformat": 4,
 "nbformat_minor": 0
}
